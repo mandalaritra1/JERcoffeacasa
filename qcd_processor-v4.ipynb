{
 "cells": [
  {
   "cell_type": "code",
   "execution_count": 4,
   "id": "e6ed6df8-0520-475c-8de5-acafed68a04a",
   "metadata": {
    "tags": []
   },
   "outputs": [
    {
     "name": "stdout",
     "output_type": "stream",
     "text": [
      "awkward version  1.10.3\n",
      "coffea version  0.7.21\n",
      "numpy version  1.23.5\n"
     ]
    }
   ],
   "source": [
    "import awkward as ak\n",
    "import numpy as np\n",
    "import time\n",
    "import coffea\n",
    "import uproot\n",
    "import hist\n",
    "import vector\n",
    "print(\"awkward version \", ak.__version__)\n",
    "print(\"coffea version \", coffea.__version__)\n",
    "print(\"numpy version \", np.__version__)\n",
    "from coffea import util, processor\n",
    "from coffea.nanoevents import NanoEventsFactory, NanoAODSchema, BaseSchema\n",
    "from collections import defaultdict\n",
    "import pickle\n",
    "from distributed.diagnostics.plugin import UploadDirectory\n",
    "import os\n",
    "from plot_utils import adjust_plot\n",
    "import matplotlib.pyplot as plt\n",
    "from utils import Histfit\n",
    "import correctionlib\n",
    "from scipy.optimize import curve_fit\n",
    "\n",
    "from distributed.diagnostics.plugin import UploadDirectory\n",
    "import mplhep as hep\n",
    "hep.style.use(\"CMS\")\n"
   ]
  },
  {
   "cell_type": "code",
   "execution_count": 5,
   "id": "f1028d5f-ce80-4227-911d-f72031274992",
   "metadata": {
    "tags": []
   },
   "outputs": [],
   "source": [
    "from qcd_processor_lib import QCDProcessor\n",
    "from qcd_processor_runner import runner\n",
    "from processor_utils import *"
   ]
  },
  {
   "cell_type": "code",
   "execution_count": 6,
   "id": "22dcb4ea-b7f4-4eb0-8d65-d9f07be8b124",
   "metadata": {
    "tags": []
   },
   "outputs": [],
   "source": [
    "%load_ext autoreload\n",
    "\n",
    "%autoreload 2"
   ]
  },
  {
   "cell_type": "code",
   "execution_count": 42,
   "id": "288b0c9e-62e5-4c29-8d5d-10a480015976",
   "metadata": {
    "tags": []
   },
   "outputs": [
    {
     "name": "stderr",
     "output_type": "stream",
     "text": [
      "/opt/conda/lib/python3.8/site-packages/distributed/client.py:1288: VersionMismatchWarning: Mismatched versions found\n",
      "\n",
      "+---------+----------------+----------------+----------------+\n",
      "| Package | client         | scheduler      | workers        |\n",
      "+---------+----------------+----------------+----------------+\n",
      "| python  | 3.8.16.final.0 | 3.8.16.final.0 | 3.8.15.final.0 |\n",
      "+---------+----------------+----------------+----------------+\n",
      "  warnings.warn(version_module.VersionMismatchWarning(msg[0][\"warning\"]))\n"
     ]
    }
   ],
   "source": [
    "# from dask.distributed import Client\n",
    "\n",
    "# client = Client(\"tls://localhost:8786\")\n",
    "# #client = None"
   ]
  },
  {
   "cell_type": "code",
   "execution_count": 14,
   "id": "5a21d85c-1e96-4928-b4e6-c1fb2770f7d0",
   "metadata": {},
   "outputs": [
    {
     "name": "stderr",
     "output_type": "stream",
     "text": [
      "/opt/conda/lib/python3.10/site-packages/distributed/node.py:182: UserWarning: Port 8787 is already in use.\n",
      "Perhaps you already have a cluster running?\n",
      "Hosting the HTTP server on port 45406 instead\n",
      "  warnings.warn(\n"
     ]
    },
    {
     "name": "stdout",
     "output_type": "stream",
     "text": [
      "{}\n"
     ]
    },
    {
     "data": {
      "text/plain": [
       "{}"
      ]
     },
     "execution_count": 14,
     "metadata": {},
     "output_type": "execute_result"
    }
   ],
   "source": [
    "from distributed import Client\n",
    "from lpcjobqueue import LPCCondorCluster\n",
    "\n",
    "cluster = LPCCondorCluster(transfer_input_files = [\"data\",\"samples\", \"qcd_processor_lib.py\",\"qcd_processor_runner.py\", \"smp_utils.py\", \"utils.py\",\"processor_utils.py\",\"plot_utils.py\"], ship_env = True)\n",
    "cluster.adapt(minimum=0, maximum=10000)\n",
    "client = Client(cluster)\n",
    "\n",
    "print(client.run(os.listdir) )\n",
    "client.scheduler_info()['workers']"
   ]
  },
  {
   "cell_type": "code",
   "execution_count": 15,
   "id": "b6d50585-3f56-445b-b2d0-8d9c8fbb1b30",
   "metadata": {
    "tags": []
   },
   "outputs": [],
   "source": [
    "import mplhep as hep\n",
    "hep.style.use(\"CMS\")\n",
    "plt.rcParams['figure.dpi'] = 60"
   ]
  },
  {
   "cell_type": "code",
   "execution_count": 19,
   "id": "0f6c2f37-d6fc-4633-8f19-a346e40d5ea2",
   "metadata": {
    "tags": []
   },
   "outputs": [],
   "source": [
    "# Set era here\n",
    "#year = 2017\n",
    "eras = [\"2017\"]\n",
    "testing = False"
   ]
  },
  {
   "cell_type": "code",
   "execution_count": 21,
   "id": "7073a9c8-b84a-4367-a91b-07ff579db622",
   "metadata": {
    "tags": []
   },
   "outputs": [
    {
     "name": "stdout",
     "output_type": "stream",
     "text": [
      "[####                                    ] | 10% Completed |  1min 49.8ss\u001b[2K"
     ]
    },
    {
     "name": "stderr",
     "output_type": "stream",
     "text": [
      "Failed to commit and disconnect from queue.\n"
     ]
    },
    {
     "name": "stdout",
     "output_type": "stream",
     "text": [
      "[#########                               ] | 24% Completed |  3min  0.7s"
     ]
    },
    {
     "name": "stderr",
     "output_type": "stream",
     "text": [
      "Task exception was never retrieved\n",
      "future: <Task finished name='Task-341808' coro=<_wrap_awaitable() done, defined at /opt/conda/lib/python3.10/site-packages/distributed/deploy/spec.py:118> exception=AssertionError()>\n",
      "Traceback (most recent call last):\n",
      "  File \"/opt/conda/lib/python3.10/site-packages/distributed/deploy/spec.py\", line 119, in _wrap_awaitable\n",
      "    return await aw\n",
      "  File \"/opt/conda/lib/python3.10/site-packages/distributed/deploy/spec.py\", line 69, in _\n",
      "    assert self.status == Status.running\n",
      "AssertionError\n"
     ]
    },
    {
     "name": "stdout",
     "output_type": "stream",
     "text": [
      "The histograms are stored in QCD_pt_response_2017JME.pklted |  7min 17.4s\u001b[2K\n"
     ]
    }
   ],
   "source": [
    "eraslist = [ [\"2017\"]]\n",
    "for eras in eraslist:\n",
    "    hists = runner(testing = testing, eras = eras, prependstr = \"root://cmsxrootd.fnal.gov/\", nworkers = 4, client = client  )\n",
    "    if testing == True:\n",
    "        fname_out = 'test_QCD_pt_response_'+eras[0]+'JME'+'.pkl'\n",
    "    else:\n",
    "        fname_out = 'QCD_pt_response_'+eras[0]+'JME'+'.pkl'\n",
    "\n",
    "    with open(fname_out, \"wb\") as f:\n",
    "            pickle.dump( hists, f )\n",
    "\n",
    "    print(f\"The histograms are stored in {fname_out}\")"
   ]
  },
  {
   "cell_type": "code",
   "execution_count": null,
   "id": "f5468365-6aaf-4118-9334-7c8d802012c9",
   "metadata": {
    "tags": []
   },
   "outputs": [],
   "source": [
    "if testing == True:\n",
    "    fname_out = 'test_QCD_pt_response_'+era+'JME'+'.pkl'\n",
    "else:\n",
    "    fname_out = 'QCD_pt_response_'+era+'JME'+'.pkl'\n",
    "\n",
    "with open(fname_out, \"wb\") as f:\n",
    "        pickle.dump( hists, f )\n",
    "        \n",
    "print(f\"The histograms are stored in {fname_out}\")"
   ]
  },
  {
   "cell_type": "code",
   "execution_count": null,
   "id": "92b1107d-f2cd-49bc-8f82-b52ec6fada62",
   "metadata": {
    "tags": []
   },
   "outputs": [],
   "source": [
    "hists[\"pt_reco_over_gen\"].project(\"frac\").plot(density= True)"
   ]
  },
  {
   "cell_type": "code",
   "execution_count": 38,
   "id": "a48b260e-7810-4451-90da-36b8536422a2",
   "metadata": {
    "tags": []
   },
   "outputs": [
    {
     "data": {
      "text/plain": [
       "[StairsArtists(stairs=<matplotlib.patches.StepPatch object at 0x7f0a40a448b0>, errorbar=<ErrorbarContainer object of 3 artists>, legend_artist=<ErrorbarContainer object of 3 artists>)]"
      ]
     },
     "execution_count": 38,
     "metadata": {},
     "output_type": "execute_result"
    },
    {
     "data": {
      "image/png": "[encoded data removed]",
      "text/plain": [
       "<Figure size 600x600 with 1 Axes>"
      ]
     },
     "metadata": {},
     "output_type": "display_data"
    }
   ],
   "source": [
    "hists[\"pileup_rho\"].project(\"pileup_fine\").plot()"
   ]
  },
  {
   "cell_type": "code",
   "execution_count": 12,
   "id": "bb192b57-ae45-4870-8509-d1b83885ebe1",
   "metadata": {
    "tags": []
   },
   "outputs": [
    {
     "data": {
      "text/plain": [
       "array(1.00782377)"
      ]
     },
     "execution_count": 12,
     "metadata": {},
     "output_type": "execute_result"
    }
   ],
   "source": [
    "GetPUSF('2017', np.array(30))"
   ]
  },
  {
   "cell_type": "code",
   "execution_count": 13,
   "id": "79815e3f-3a6a-45d7-b780-389b48da9f82",
   "metadata": {},
   "outputs": [],
   "source": [
    "def mean_finder(hist, centers):\n",
    "    sum = 0\n",
    "    weight_sum = 0\n",
    "    \n",
    "    for i in range(len(hist)):\n",
    "        sum = sum + hist[i]*centers[i]\n",
    "        weight_sum = weight_sum + hist[i]\n",
    "    return sum/weight_sum\n",
    "\n",
    "def std_finder(hist, centers):\n",
    "    sum = 0\n",
    "    weight_sum = 0\n",
    "    mean = mean_finder(hist, centers)\n",
    "    \n",
    "    for i in range(len(hist)):\n",
    "        sum = sum + hist[i]*((centers[i] - mean)**2)\n",
    "        weight_sum = weight_sum + hist[i]\n",
    "        \n",
    "    return np.sqrt(sum/(weight_sum - 1))\n",
    "\n",
    "def sem_finder(hist, centers):\n",
    "    return std_finder(hist,centers)/(np.sum(hist)**0.5)\n",
    "\n",
    "def qdline(x, a, b, c):\n",
    "    return a*x*x + b*x + c"
   ]
  },
  {
   "cell_type": "code",
   "execution_count": 14,
   "id": "2ccda0f1-9b09-4923-86ba-b134c8f25203",
   "metadata": {
    "tags": []
   },
   "outputs": [],
   "source": [
    "\n",
    "with open(\"QCD_pt_response_2017JME.pkl\", \"rb\") as f:\n",
    "    output = pickle.load( f )"
   ]
  },
  {
   "cell_type": "code",
   "execution_count": 15,
   "id": "b410852a-f3af-4438-b3b7-a92481296249",
   "metadata": {
    "tags": []
   },
   "outputs": [],
   "source": [
    "hist_1 = output[\"pileup_rho\"]\n",
    "pileup_centers = hist_1.axes[1].centers\n",
    "pileup_bins = hist_1.axes[1].edges\n",
    "pileup_widths = hist_1.axes[1].widths\n",
    "\n",
    "rho_centers = hist_1.axes[2].centers\n",
    "rho_widths = hist_1.axes[2].widths"
   ]
  },
  {
   "cell_type": "code",
   "execution_count": 16,
   "id": "fa8c56b1-b4a9-4f3f-b1b9-c97c9232ac73",
   "metadata": {
    "tags": []
   },
   "outputs": [],
   "source": [
    "hist_pileup_rho = hist_1.project(\"pileup_fine\", \"rho_fine\")\n",
    "hist_pileup_rho = hist_pileup_rho.to_numpy()[0]"
   ]
  },
  {
   "cell_type": "code",
   "execution_count": 17,
   "id": "fe7c02da-723a-4dc5-9e8b-7e50cdfc6bae",
   "metadata": {
    "tags": []
   },
   "outputs": [
    {
     "data": {
      "text/plain": [
       "(exptext: Custom Text(0.0, 1, 'CMS'),\n",
       " expsuffix: Custom Text(0.0, 1.005, 'Simulation'))"
      ]
     },
     "execution_count": 17,
     "metadata": {},
     "output_type": "execute_result"
    },
    {
     "data": {
      "image/png": "[encoded data removed]",
      "text/plain": [
       "<Figure size 1000x1000 with 1 Axes>"
      ]
     },
     "metadata": {},
     "output_type": "display_data"
    }
   ],
   "source": [
    "means = []\n",
    "for i in range(len(hist_pileup_rho)):\n",
    "    means.append(mean_finder(hist_pileup_rho[i], rho_centers))\n",
    "    \n",
    "plt.plot(pileup_centers, means, linestyle = \"\", marker = 'o', color = 'black')\n",
    "popt, pcov = curve_fit(qdline, pileup_centers, means)\n",
    "plt.plot(pileup_centers, qdline(pileup_centers, *popt), label = 'Fit', color = 'r')\n",
    "plt.xlabel(r\"$\\mu$\")\n",
    "plt.ylabel(r\"$\\rho$\")\n",
    "hep.cms.label(year = 2017)"
   ]
  },
  {
   "cell_type": "code",
   "execution_count": 31,
   "id": "f4d73bce-9d5e-4b50-80d2-ccabcf6174a0",
   "metadata": {
    "tags": []
   },
   "outputs": [
    {
     "ename": "IndexError",
     "evalue": "index -1 is out of bounds for axis 0 with size 0",
     "output_type": "error",
     "traceback": [
      "\u001b[0;31m---------------------------------------------------------------------------\u001b[0m",
      "\u001b[0;31mIndexError\u001b[0m                                Traceback (most recent call last)",
      "Cell \u001b[0;32mIn[31], line 6\u001b[0m\n\u001b[1;32m      4\u001b[0m \u001b[38;5;28;01melse\u001b[39;00m:\n\u001b[1;32m      5\u001b[0m     temp \u001b[38;5;241m=\u001b[39m np\u001b[38;5;241m.\u001b[39marray(means[np\u001b[38;5;241m.\u001b[39marray(pileup_centers)\u001b[38;5;241m<\u001b[39mpileup])\n\u001b[0;32m----> 6\u001b[0m \u001b[38;5;28mprint\u001b[39m(\u001b[43mtemp\u001b[49m\u001b[43m[\u001b[49m\u001b[38;5;241;43m-\u001b[39;49m\u001b[38;5;241;43m1\u001b[39;49m\u001b[43m]\u001b[49m)\n",
      "\u001b[0;31mIndexError\u001b[0m: index -1 is out of bounds for axis 0 with size 0"
     ]
    }
   ],
   "source": [
    "\n",
    "    \n",
    "    "
   ]
  },
  {
   "cell_type": "code",
   "execution_count": 38,
   "id": "8ebe1658-5d92-4ef6-98ac-b916217f32e7",
   "metadata": {
    "tags": []
   },
   "outputs": [
    {
     "data": {
      "text/plain": [
       "array([-0.5,  0.5,  1.5,  2.5,  3.5,  4.5,  5.5,  6.5,  7.5,  8.5,  9.5,\n",
       "       10.5, 11.5, 12.5, 13.5, 14.5, 15.5, 16.5, 17.5, 18.5, 19.5, 20.5,\n",
       "       21.5, 22.5, 23.5, 24.5, 25.5, 26.5, 27.5, 28.5, 29.5, 30.5, 31.5,\n",
       "       32.5, 33.5, 34.5, 35.5, 36.5, 37.5, 38.5, 39.5, 40.5, 41.5, 42.5,\n",
       "       43.5, 44.5, 45.5, 46.5, 47.5, 48.5, 49.5, 50.5, 51.5, 52.5, 53.5,\n",
       "       54.5, 55.5, 56.5, 57.5, 58.5, 59.5, 60.5])"
      ]
     },
     "execution_count": 38,
     "metadata": {},
     "output_type": "execute_result"
    }
   ],
   "source": [
    "hist.axis.Regular(61, -.5, 60.5, name = 'pileup_fine', label = r\"$\\mu$\").edges"
   ]
  },
  {
   "cell_type": "code",
   "execution_count": 20,
   "id": "40ec3c3e-e833-4182-bc01-58d089a3297d",
   "metadata": {
    "tags": []
   },
   "outputs": [
    {
     "data": {
      "text/plain": [
       "[1.647230738114421,\n",
       " 2.79316564727642,\n",
       " 3.7215877635481704,\n",
       " 4.670064465952031,\n",
       " 5.919463818947259,\n",
       " 6.846246846726247,\n",
       " 7.771378029780641,\n",
       " 8.694383783927295,\n",
       " 9.61919531002097,\n",
       " 10.85732841530387,\n",
       " 11.787219440161527,\n",
       " 12.709826721143264,\n",
       " 13.92172608441606,\n",
       " 14.853298648855477,\n",
       " 15.740788784098877,\n",
       " 16.658504740876946,\n",
       " 17.548378611713186,\n",
       " 18.73854533475517,\n",
       " 19.62995516468529,\n",
       " 20.51734384869788,\n",
       " 21.704531896610607,\n",
       " 22.58919619334308,\n",
       " 23.47062598759158,\n",
       " 24.33880181180454,\n",
       " 25.2167404762993,\n",
       " 26.383807001995578,\n",
       " 27.24622563320339,\n",
       " 28.13683696507122,\n",
       " 29.292501239495472,\n",
       " 30.190557644185695,\n",
       " 31.12101296322408,\n",
       " 31.97069458755708,\n",
       " 32.78052423992046,\n",
       " 34.08535475784264,\n",
       " 34.912309170602555,\n",
       " 35.93665309593618,\n",
       " 36.98836417517661,\n",
       " 37.88446480075481,\n",
       " 38.7501134149475,\n",
       " 39.49503043891197]"
      ]
     },
     "execution_count": 20,
     "metadata": {},
     "output_type": "execute_result"
    }
   ],
   "source": [
    "m[/a"
   ]
  },
  {
   "cell_type": "code",
   "execution_count": null,
   "id": "3b0752b9-24e3-4d3b-9148-3f9bca70026f",
   "metadata": {},
   "outputs": [],
   "source": []
  }
 ],
 "metadata": {
  "kernelspec": {
   "display_name": "Python 3 (ipykernel)",
   "language": "python",
   "name": "python3"
  },
  "language_info": {
   "codemirror_mode": {
    "name": "ipython",
    "version": 3
   },
   "file_extension": ".py",
   "mimetype": "text/x-python",
   "name": "python",
   "nbconvert_exporter": "python",
   "pygments_lexer": "ipython3",
   "version": "3.10.8"
  }
 },
 "nbformat": 4,
 "nbformat_minor": 5
}
