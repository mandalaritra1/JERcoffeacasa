{
 "cells": [
  {
   "cell_type": "code",
   "execution_count": 22,
   "id": "84792efe-4a0a-426f-b401-9b1db460d9b8",
   "metadata": {
    "tags": []
   },
   "outputs": [],
   "source": [
    "import hist\n",
    "import numpy as np\n",
    "from plot_utils import adjust_plot\n",
    "import matplotlib.pyplot as plt\n",
    "import pickle\n",
    "from utils_v1 import Histfit, computeJER\n",
    "from scipy.optimize import curve_fit\n",
    "import matplotlib.gridspec as gridspec"
   ]
  },
  {
   "cell_type": "code",
   "execution_count": 23,
   "id": "16e5c34a-9ba9-4285-8bf6-57e503abd6df",
   "metadata": {
    "tags": []
   },
   "outputs": [
    {
     "name": "stdout",
     "output_type": "stream",
     "text": [
      "The autoreload extension is already loaded. To reload it, use:\n",
      "  %reload_ext autoreload\n"
     ]
    }
   ],
   "source": [
    "%load_ext autoreload\n",
    "\n",
    "%autoreload 2"
   ]
  },
  {
   "cell_type": "code",
   "execution_count": 24,
   "id": "731951d7-ff18-416f-8415-8080a2c550ab",
   "metadata": {
    "tags": []
   },
   "outputs": [],
   "source": [
    "import mplhep as hep\n",
    "hep.style.use(\"CMS\")"
   ]
  },
  {
   "cell_type": "code",
   "execution_count": 25,
   "id": "2713ceb3-f628-4baa-850b-9e8c37eea06d",
   "metadata": {
    "tags": []
   },
   "outputs": [],
   "source": [
    "year = 2018\n",
    "era = \"2018\"\n",
    "\n",
    "if era == \"2016\":\n",
    "    jerfile = \"Summer20UL16_JRV3_MC_PtResolution_AK4PFchs.txt\"\n",
    "    filename = 'samples/flatPU_JMENano_2016.txt'\n",
    "    year =2016\n",
    "    \n",
    "if era == '2016APV':\n",
    "    jerfile = \"Summer20UL16APV_JRV3_MC_PtResolution_AK4PFchs.txt\"    \n",
    "    filename = 'samples/flatPU_JMENano_2016APV.txt'\n",
    "    year = 2016\n",
    "if era == '2017':\n",
    "    jerfile = \"Summer20UL17_JRV1_MC_PtResolution_AK4PFchs.txt\"\n",
    "    filename = 'samples/flatPU_JMENano_2017.txt'\n",
    "    year = 2017\n",
    "    more = 'JME'\n",
    "if era == '2018':\n",
    "    jerfile = \"Summer20UL18_JRV1_MC_PtResolution_AK4PFchs.txt\"\n",
    "    filename = 'samples/flatPU_JMENano_2018.txt'\n",
    "    year = 2018\n",
    "    more = 'JME'  #change more according to filename"
   ]
  },
  {
   "cell_type": "code",
   "execution_count": 26,
   "id": "5452c0f9-3516-4835-ba82-dfb6c24cde0c",
   "metadata": {
    "tags": []
   },
   "outputs": [],
   "source": [
    "# with open(\"QCD_pt_response_\"+era+more+\".pkl\", \"rb\") as f:\n",
    "#     output = pickle.load( f )\n",
    "\n",
    "with open(\"QCDresponse_2018JME.pkl\", \"rb\") as f:\n",
    "    output = pickle.load( f )"
   ]
  },
  {
   "cell_type": "code",
   "execution_count": 27,
   "id": "ec8fab3a-7bfa-421c-aaa0-5b1d70c93eab",
   "metadata": {
    "tags": []
   },
   "outputs": [
    {
     "data": {
      "text/plain": [
       "(StrCategory(['2018'], growth=True, name='dataset', label='Primary dataset'),\n",
       " Variable(array([   10.,    11.,    12.,    13.,    14.,    15.,    17.,    20.,\n",
       "           23.,    27.,    30.,    35.,    40.,    45.,    57.,    72.,\n",
       "           90.,   120.,   150.,   200.,   300.,   400.,   550.,   750.,\n",
       "         1000.,  1500.,  2000.,  2500.,  3000.,  3500.,  4000.,  5000.,\n",
       "        10000.]), name='pt', label='$p_{T}$ [GeV]'),\n",
       " Regular(300, 0, 2, name='frac', label='Fraction'),\n",
       " Variable([0, 0.5, 0.8, 1.1, 1.3, 1.7, 1.9, 2.1, 2.3, 2.5, 2.8, 3, 3.2, 4.7], name='eta', label='$\\\\eta$'),\n",
       " Variable([0, 7.47, 13.49, 19.52, 25.54, 31.57, 37.59, 90], name='rho', label='$\\\\rho$'),\n",
       " Variable([0, 10, 20, 31, 43, 56], name='pileup', label='$\\\\mu$'))"
      ]
     },
     "execution_count": 27,
     "metadata": {},
     "output_type": "execute_result"
    }
   ],
   "source": [
    "hist_0 = output[\"pt_reco_over_gen\"]\n",
    "hist_0.axes"
   ]
  },
  {
   "cell_type": "code",
   "execution_count": 28,
   "id": "ea1cd5bd-2026-43ac-a77e-fb52f8f9f263",
   "metadata": {
    "tags": []
   },
   "outputs": [],
   "source": [
    "datasets = hist_0.axes[0].centers\n",
    "pt_bins = hist_0.axes[1].edges\n",
    "frac_bins = hist_0.axes[2].edges\n",
    "eta_bins = hist_0.axes[3].edges\n",
    "rho_bins = hist_0.axes[4].edges\n",
    "pileup_bins = hist_0.axes[5].edges\n",
    "\n",
    "\n",
    "pt_values = hist_0.axes[1].centers\n",
    "frac_values = hist_0.axes[2].centers\n",
    "eta_values = hist_0.axes[3].centers\n",
    "rho_values = hist_0.axes[4].centers\n",
    "pileup_values = hist_0.axes[5].centers\n",
    "\n",
    "pt_widths = hist_0.axes[1].widths\n",
    "frac_widths = hist_0.axes[2].widths\n",
    "eta_widths = hist_0.axes[3].widths\n",
    "rho_widths = hist_0.axes[4].widths\n",
    "pileup_widths = hist_0.axes[5].widths"
   ]
  },
  {
   "cell_type": "code",
   "execution_count": 29,
   "id": "18eb6ff7-21c7-4b05-bc0b-11f44735ef8d",
   "metadata": {
    "tags": []
   },
   "outputs": [],
   "source": [
    "def jerfunc(x, p0, p1, p2, p3):\n",
    "    return np.sqrt(p0*np.abs(p0)/(x*x)+p1*p1*np.power(x,p3) + p2*p2)"
   ]
  },
  {
   "cell_type": "code",
   "execution_count": 30,
   "id": "09c82b2c-de07-44e2-98b2-b7aa4a488396",
   "metadata": {
    "tags": []
   },
   "outputs": [
    {
     "ename": "ValueError",
     "evalue": "`ydata` must not be empty!",
     "output_type": "error",
     "traceback": [
      "\u001b[0;31m---------------------------------------------------------------------------\u001b[0m",
      "\u001b[0;31mValueError\u001b[0m                                Traceback (most recent call last)",
      "Cell \u001b[0;32mIn[30], line 57\u001b[0m\n\u001b[1;32m     52\u001b[0m sigma_error_list  \u001b[38;5;241m=\u001b[39m np\u001b[38;5;241m.\u001b[39marray(histfit\u001b[38;5;241m.\u001b[39mparameters[\u001b[38;5;124m\"\u001b[39m\u001b[38;5;124msigmaErr\u001b[39m\u001b[38;5;124m\"\u001b[39m])\n\u001b[1;32m     55\u001b[0m sel \u001b[38;5;241m=\u001b[39m (histfit\u001b[38;5;241m.\u001b[39mparameters[\u001b[38;5;124m\"\u001b[39m\u001b[38;5;124msigma\u001b[39m\u001b[38;5;124m\"\u001b[39m] \u001b[38;5;241m!=\u001b[39m \u001b[38;5;28;01mNone\u001b[39;00m ) \u001b[38;5;241m&\u001b[39m (pt_values\u001b[38;5;241m>\u001b[39m\u001b[38;5;241m=\u001b[39m\u001b[38;5;241m30\u001b[39m) \n\u001b[0;32m---> 57\u001b[0m popt,pcov \u001b[38;5;241m=\u001b[39m \u001b[43mcurve_fit\u001b[49m\u001b[43m(\u001b[49m\u001b[43mjerfunc\u001b[49m\u001b[43m,\u001b[49m\u001b[43m  \u001b[49m\u001b[43mnp\u001b[49m\u001b[38;5;241;43m.\u001b[39;49m\u001b[43marray\u001b[49m\u001b[43m(\u001b[49m\u001b[43mpt_values\u001b[49m\u001b[43m[\u001b[49m\u001b[43msel\u001b[49m\u001b[43m]\u001b[49m\u001b[43m,\u001b[49m\u001b[43m \u001b[49m\u001b[43mdtype\u001b[49m\u001b[43m \u001b[49m\u001b[38;5;241;43m=\u001b[39;49m\u001b[43m \u001b[49m\u001b[38;5;124;43m'\u001b[39;49m\u001b[38;5;124;43mfloat64\u001b[39;49m\u001b[38;5;124;43m'\u001b[39;49m\u001b[43m)\u001b[49m\u001b[43m,\u001b[49m\u001b[43m  \u001b[49m\u001b[43mnp\u001b[49m\u001b[38;5;241;43m.\u001b[39;49m\u001b[43marray\u001b[49m\u001b[43m(\u001b[49m\u001b[43msigma_list\u001b[49m\u001b[43m[\u001b[49m\u001b[43msel\u001b[49m\u001b[43m]\u001b[49m\u001b[43m,\u001b[49m\u001b[43m \u001b[49m\u001b[43mdtype\u001b[49m\u001b[43m \u001b[49m\u001b[38;5;241;43m=\u001b[39;49m\u001b[43m \u001b[49m\u001b[38;5;124;43m'\u001b[39;49m\u001b[38;5;124;43mfloat64\u001b[39;49m\u001b[38;5;124;43m'\u001b[39;49m\u001b[43m)\u001b[49m\u001b[43m \u001b[49m\u001b[43m,\u001b[49m\u001b[43m \u001b[49m\n\u001b[1;32m     58\u001b[0m \u001b[43m                      \u001b[49m\u001b[43msigma\u001b[49m\u001b[43m \u001b[49m\u001b[38;5;241;43m=\u001b[39;49m\u001b[43m \u001b[49m\u001b[43mnp\u001b[49m\u001b[38;5;241;43m.\u001b[39;49m\u001b[43marray\u001b[49m\u001b[43m(\u001b[49m\u001b[43msigma_error_list\u001b[49m\u001b[43m[\u001b[49m\u001b[43msel\u001b[49m\u001b[43m]\u001b[49m\u001b[43m,\u001b[49m\u001b[43mdtype\u001b[49m\u001b[43m \u001b[49m\u001b[38;5;241;43m=\u001b[39;49m\u001b[43m \u001b[49m\u001b[38;5;124;43m'\u001b[39;49m\u001b[38;5;124;43mfloat64\u001b[39;49m\u001b[38;5;124;43m'\u001b[39;49m\u001b[43m)\u001b[49m\u001b[43m \u001b[49m\u001b[43m,\u001b[49m\u001b[43m \u001b[49m\u001b[43mbounds\u001b[49m\u001b[43m \u001b[49m\u001b[38;5;241;43m=\u001b[39;49m\u001b[43m(\u001b[49m\u001b[43m[\u001b[49m\u001b[38;5;241;43m-\u001b[39;49m\u001b[38;5;241;43m10\u001b[39;49m\u001b[43m,\u001b[49m\u001b[38;5;241;43m-\u001b[39;49m\u001b[38;5;241;43m5\u001b[39;49m\u001b[43m,\u001b[49m\u001b[38;5;241;43m-\u001b[39;49m\u001b[38;5;241;43m3\u001b[39;49m\u001b[43m,\u001b[49m\u001b[38;5;241;43m-\u001b[39;49m\u001b[38;5;241;43m5\u001b[39;49m\u001b[43m]\u001b[49m\u001b[43m,\u001b[49m\u001b[43m[\u001b[49m\u001b[38;5;241;43m10\u001b[39;49m\u001b[43m,\u001b[49m\u001b[38;5;241;43m2\u001b[39;49m\u001b[43m,\u001b[49m\u001b[38;5;241;43m2\u001b[39;49m\u001b[43m,\u001b[49m\u001b[38;5;241;43m5\u001b[39;49m\u001b[43m]\u001b[49m\u001b[43m)\u001b[49m\u001b[43m \u001b[49m\u001b[43m)\u001b[49m    \n\u001b[1;32m     60\u001b[0m df_fit2 \u001b[38;5;241m=\u001b[39m pd\u001b[38;5;241m.\u001b[39mDataFrame({\u001b[38;5;124m\"\u001b[39m\u001b[38;5;124mpileup_low\u001b[39m\u001b[38;5;124m\"\u001b[39m:[pileup_bins[i_rho]], \u001b[38;5;124m\"\u001b[39m\u001b[38;5;124mpileup_high\u001b[39m\u001b[38;5;124m\"\u001b[39m:[pileup_bins[i_rho\u001b[38;5;241m+\u001b[39m\u001b[38;5;241m1\u001b[39m]], \u001b[38;5;124m\"\u001b[39m\u001b[38;5;124meta_low\u001b[39m\u001b[38;5;124m\"\u001b[39m:[eta_bins[i_eta]], \u001b[38;5;124m\"\u001b[39m\u001b[38;5;124meta_high\u001b[39m\u001b[38;5;124m\"\u001b[39m:[eta_bins[i_eta\u001b[38;5;241m+\u001b[39m\u001b[38;5;241m1\u001b[39m]], \n\u001b[1;32m     61\u001b[0m                         \u001b[38;5;124m\"\u001b[39m\u001b[38;5;124mpar0\u001b[39m\u001b[38;5;124m\"\u001b[39m:[popt[\u001b[38;5;241m0\u001b[39m]],\u001b[38;5;124m\"\u001b[39m\u001b[38;5;124mpar0_unc\u001b[39m\u001b[38;5;124m\"\u001b[39m:[np\u001b[38;5;241m.\u001b[39msqrt(pcov[\u001b[38;5;241m0\u001b[39m][\u001b[38;5;241m0\u001b[39m])], \u001b[38;5;124m\"\u001b[39m\u001b[38;5;124mpar1\u001b[39m\u001b[38;5;124m\"\u001b[39m:[popt[\u001b[38;5;241m1\u001b[39m]],\u001b[38;5;124m\"\u001b[39m\u001b[38;5;124mpar1_unc\u001b[39m\u001b[38;5;124m\"\u001b[39m:[np\u001b[38;5;241m.\u001b[39msqrt(pcov[\u001b[38;5;241m1\u001b[39m][\u001b[38;5;241m1\u001b[39m])],\n\u001b[1;32m     62\u001b[0m                         \u001b[38;5;124m\"\u001b[39m\u001b[38;5;124mpar2\u001b[39m\u001b[38;5;124m\"\u001b[39m:[popt[\u001b[38;5;241m2\u001b[39m]],\u001b[38;5;124m\"\u001b[39m\u001b[38;5;124mpar2_unc\u001b[39m\u001b[38;5;124m\"\u001b[39m:[np\u001b[38;5;241m.\u001b[39msqrt(pcov[\u001b[38;5;241m2\u001b[39m][\u001b[38;5;241m2\u001b[39m])], \u001b[38;5;124m\"\u001b[39m\u001b[38;5;124mpar3\u001b[39m\u001b[38;5;124m\"\u001b[39m:[popt[\u001b[38;5;241m3\u001b[39m]],\u001b[38;5;124m\"\u001b[39m\u001b[38;5;124mpar3_unc\u001b[39m\u001b[38;5;124m\"\u001b[39m:[np\u001b[38;5;241m.\u001b[39msqrt(pcov[\u001b[38;5;241m3\u001b[39m][\u001b[38;5;241m3\u001b[39m])] , \u001b[38;5;124m\"\u001b[39m\u001b[38;5;124mera\u001b[39m\u001b[38;5;124m\"\u001b[39m:[era]})\n\u001b[1;32m     63\u001b[0m df_fit \u001b[38;5;241m=\u001b[39m pd\u001b[38;5;241m.\u001b[39mconcat([df_fit,df_fit2])\n",
      "File \u001b[0;32m/opt/conda/lib/python3.8/site-packages/scipy/optimize/minpack.py:747\u001b[0m, in \u001b[0;36mcurve_fit\u001b[0;34m(f, xdata, ydata, p0, sigma, absolute_sigma, check_finite, bounds, method, jac, **kwargs)\u001b[0m\n\u001b[1;32m    744\u001b[0m         xdata \u001b[38;5;241m=\u001b[39m np\u001b[38;5;241m.\u001b[39masarray(xdata, \u001b[38;5;28mfloat\u001b[39m)\n\u001b[1;32m    746\u001b[0m \u001b[38;5;28;01mif\u001b[39;00m ydata\u001b[38;5;241m.\u001b[39msize \u001b[38;5;241m==\u001b[39m \u001b[38;5;241m0\u001b[39m:\n\u001b[0;32m--> 747\u001b[0m     \u001b[38;5;28;01mraise\u001b[39;00m \u001b[38;5;167;01mValueError\u001b[39;00m(\u001b[38;5;124m\"\u001b[39m\u001b[38;5;124m`ydata` must not be empty!\u001b[39m\u001b[38;5;124m\"\u001b[39m)\n\u001b[1;32m    749\u001b[0m \u001b[38;5;66;03m# Determine type of sigma\u001b[39;00m\n\u001b[1;32m    750\u001b[0m \u001b[38;5;28;01mif\u001b[39;00m sigma \u001b[38;5;129;01mis\u001b[39;00m \u001b[38;5;129;01mnot\u001b[39;00m \u001b[38;5;28;01mNone\u001b[39;00m:\n",
      "\u001b[0;31mValueError\u001b[0m: `ydata` must not be empty!"
     ]
    }
   ],
   "source": [
    "import pandas as pd\n",
    "#eras = ['2017', '2018']\n",
    "eras = ['2018']\n",
    "df_fit = pd.DataFrame({\"pileup_low\":[], \"pileup_high\":[], \"eta_low\":[], \"eta_high\":[], \"par0\":[],\"par0_unc\":[], \"par1\":[],\"par1_unc\":[],\n",
    "                       \"par2\":[],\"par2_unc\":[], \"par3\":[],\"par3_unc\":[] , \"era\":[]})\n",
    "n_rho_min = 0\n",
    "n_rho_max = 6\n",
    "n_eta_min = 0\n",
    "n_eta_max = 15\n",
    "n_rho = n_rho_max - n_rho_min\n",
    "n_eta = n_eta_max - n_eta_min\n",
    "for era in eras:\n",
    "\n",
    "    if era == \"2016\":\n",
    "        jerfile = \"Summer20UL16_JRV3_MC_PtResolution_AK4PFchs.txt\"\n",
    "        filename = 'samples/flatPU_JMENano_2016.txt'\n",
    "        year =2016\n",
    "        more = \"_premix\"\n",
    "    if era == '2016APV':\n",
    "        jerfile = \"Summer20UL16APV_JRV3_MC_PtResolution_AK4PFchs.txt\"    \n",
    "        filename = 'samples/flatPU_JMENano_2016APV.txt'\n",
    "        year = 2016\n",
    "        more = \"_premix\"\n",
    "    if era == '2017':\n",
    "        jerfile = \"Summer20UL17_JRV1_MC_PtResolution_AK4PFchs.txt\"\n",
    "        filename = 'samples/flatPU_JMENano_2017.txt'\n",
    "        year = 2017\n",
    "        more = \"JME_all_jets\"\n",
    "    if era == '2018':\n",
    "        jerfile = \"Summer20UL18_JRV1_MC_PtResolution_AK4PFchs.txt\"\n",
    "        filename = 'samples/flatPU_JMENano_2018.txt'\n",
    "        year = 2018\n",
    "        more = \"JME\"\n",
    "    import itertools\n",
    "    # with open(\"QCD_pt_response_\"+era+more+\".pkl\", \"rb\") as f:\n",
    "    #     output = pickle.load( f )\n",
    "    with open(\"QCDresponse_2018JME.pkl\", \"rb\") as f:\n",
    "        output = pickle.load( f )\n",
    "    hist_0 = output[\"pt_reco_over_gen\"]\n",
    "    \n",
    "    for i_rho in range(n_rho_min, n_rho_max):\n",
    "        for i_eta in range(n_eta_min, n_eta_max):\n",
    "            hist_rho_pt_frac = hist_0.project(\"eta\",\"pileup\",\"pt\",\"frac\").to_numpy()[0][i_eta]\n",
    "            \n",
    "            \n",
    "            markers = itertools.cycle(['o', 's', 'v', '^', 'D'])\n",
    "            hist_pt_frac = hist_rho_pt_frac[i_rho]\n",
    "            histfit = Histfit(hist_pt_frac, frac_values, pt_values)\n",
    "            histfit.store_parameters()\n",
    "\n",
    "            sigma_list = histfit.parameters[\"sigma\"]\n",
    "            sigma_error_list  = np.array(histfit.parameters[\"sigmaErr\"])\n",
    "            \n",
    "\n",
    "            sel = (histfit.parameters[\"sigma\"] != None ) & (pt_values>=30) \n",
    "\n",
    "            popt,pcov = curve_fit(jerfunc,  np.array(pt_values[sel], dtype = 'float64'),  np.array(sigma_list[sel], dtype = 'float64') , \n",
    "                                  sigma = np.array(sigma_error_list[sel],dtype = 'float64') , bounds =([-10,-5,-3,-5],[10,2,2,5]) )    \n",
    "\n",
    "            df_fit2 = pd.DataFrame({\"pileup_low\":[pileup_bins[i_rho]], \"pileup_high\":[pileup_bins[i_rho+1]], \"eta_low\":[eta_bins[i_eta]], \"eta_high\":[eta_bins[i_eta+1]], \n",
    "                                    \"par0\":[popt[0]],\"par0_unc\":[np.sqrt(pcov[0][0])], \"par1\":[popt[1]],\"par1_unc\":[np.sqrt(pcov[1][1])],\n",
    "                                    \"par2\":[popt[2]],\"par2_unc\":[np.sqrt(pcov[2][2])], \"par3\":[popt[3]],\"par3_unc\":[np.sqrt(pcov[3][3])] , \"era\":[era]})\n",
    "            df_fit = pd.concat([df_fit,df_fit2])\n",
    "            \n"
   ]
  },
  {
   "cell_type": "code",
   "execution_count": 32,
   "id": "f1cf764b-13a2-413d-98af-ecad1f4068a8",
   "metadata": {
    "tags": []
   },
   "outputs": [
    {
     "data": {
      "text/plain": [
       "{'mean': array([None, None, None, None, None, None, None, None, None, None, None,\n",
       "        None, None, None, None, None, None, None, None, None, None, None,\n",
       "        None, None, None, None, None, None, None, None, None, None],\n",
       "       dtype=object),\n",
       " 'sigma': array([None, None, None, None, None, None, None, None, None, None, None,\n",
       "        None, None, None, None, None, None, None, None, None, None, None,\n",
       "        None, None, None, None, None, None, None, None, None, None],\n",
       "       dtype=object),\n",
       " 'const': array([None, None, None, None, None, None, None, None, None, None, None,\n",
       "        None, None, None, None, None, None, None, None, None, None, None,\n",
       "        None, None, None, None, None, None, None, None, None, None],\n",
       "       dtype=object),\n",
       " 'sigmaErr': array([None, None, None, None, None, None, None, None, None, None, None,\n",
       "        None, None, None, None, None, None, None, None, None, None, None,\n",
       "        None, None, None, None, None, None, None, None, None, None],\n",
       "       dtype=object)}"
      ]
     },
     "execution_count": 32,
     "metadata": {},
     "output_type": "execute_result"
    }
   ],
   "source": [
    "histfit.parameters"
   ]
  },
  {
   "cell_type": "code",
   "execution_count": null,
   "id": "4c4d12f5-1b97-44af-a89f-a766362417df",
   "metadata": {},
   "outputs": [],
   "source": []
  }
 ],
 "metadata": {
  "kernelspec": {
   "display_name": "Python 3 (ipykernel)",
   "language": "python",
   "name": "python3"
  },
  "language_info": {
   "codemirror_mode": {
    "name": "ipython",
    "version": 3
   },
   "file_extension": ".py",
   "mimetype": "text/x-python",
   "name": "python",
   "nbconvert_exporter": "python",
   "pygments_lexer": "ipython3",
   "version": "3.8.16"
  }
 },
 "nbformat": 4,
 "nbformat_minor": 5
}
