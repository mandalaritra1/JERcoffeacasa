{
 "cells": [
  {
   "cell_type": "code",
   "execution_count": 27,
   "id": "84792efe-4a0a-426f-b401-9b1db460d9b8",
   "metadata": {
    "tags": []
   },
   "outputs": [],
   "source": [
    "import hist\n",
    "import numpy as np\n",
    "from plot_utils import adjust_plot\n",
    "import matplotlib.pyplot as plt\n",
    "import pickle\n",
    "from utils_v1 import Histfit, computeJER\n",
    "from scipy.optimize import curve_fit\n",
    "import matplotlib.gridspec as gridspec"
   ]
  },
  {
   "cell_type": "code",
   "execution_count": 28,
   "id": "16e5c34a-9ba9-4285-8bf6-57e503abd6df",
   "metadata": {
    "tags": []
   },
   "outputs": [
    {
     "name": "stdout",
     "output_type": "stream",
     "text": [
      "The autoreload extension is already loaded. To reload it, use:\n",
      "  %reload_ext autoreload\n"
     ]
    }
   ],
   "source": [
    "%load_ext autoreload\n",
    "\n",
    "%autoreload 2"
   ]
  },
  {
   "cell_type": "code",
   "execution_count": 29,
   "id": "731951d7-ff18-416f-8415-8080a2c550ab",
   "metadata": {
    "tags": []
   },
   "outputs": [],
   "source": [
    "import mplhep as hep\n",
    "hep.style.use(\"CMS\")"
   ]
  },
  {
   "cell_type": "code",
   "execution_count": 30,
   "id": "2713ceb3-f628-4baa-850b-9e8c37eea06d",
   "metadata": {
    "tags": []
   },
   "outputs": [],
   "source": [
    "year = 2018\n",
    "era = \"2018\"\n",
    "\n",
    "if era == \"2016\":\n",
    "    jerfile = \"Summer20UL16_JRV3_MC_PtResolution_AK4PFchs.txt\"\n",
    "    filename = 'samples/flatPU_JMENano_2016.txt'\n",
    "    year =2016\n",
    "    \n",
    "if era == '2016APV':\n",
    "    jerfile = \"Summer20UL16APV_JRV3_MC_PtResolution_AK4PFchs.txt\"    \n",
    "    filename = 'samples/flatPU_JMENano_2016APV.txt'\n",
    "    year = 2016\n",
    "if era == '2017':\n",
    "    jerfile = \"Summer20UL17_JRV1_MC_PtResolution_AK4PFchs.txt\"\n",
    "    filename = 'samples/flatPU_JMENano_2017.txt'\n",
    "    year = 2017\n",
    "    more = 'JME'\n",
    "if era == '2018':\n",
    "    jerfile = \"Summer20UL18_JRV1_MC_PtResolution_AK4PFchs.txt\"\n",
    "    filename = 'samples/flatPU_JMENano_2018.txt'\n",
    "    year = 2018\n",
    "    more = 'JME'  #change more according to filename"
   ]
  },
  {
   "cell_type": "code",
   "execution_count": 31,
   "id": "5452c0f9-3516-4835-ba82-dfb6c24cde0c",
   "metadata": {
    "tags": []
   },
   "outputs": [],
   "source": [
    "# with open(\"QCD_pt_response_\"+era+more+\".pkl\", \"rb\") as f:\n",
    "#     output = pickle.load( f )\n",
    "\n",
    "with open(\"QCD_pt_response_2017JME.pkl\", \"rb\") as f:\n",
    "    output = pickle.load( f )"
   ]
  },
  {
   "cell_type": "code",
   "execution_count": 32,
   "id": "ec8fab3a-7bfa-421c-aaa0-5b1d70c93eab",
   "metadata": {
    "tags": []
   },
   "outputs": [
    {
     "data": {
      "text/plain": [
       "(StrCategory(['2017'], growth=True, name='dataset', label='Primary dataset'),\n",
       " Variable(array([   10.,    11.,    12.,    13.,    14.,    15.,    17.,    20.,\n",
       "           23.,    27.,    30.,    35.,    40.,    45.,    57.,    72.,\n",
       "           90.,   120.,   150.,   200.,   300.,   400.,   550.,   750.,\n",
       "         1000.,  1500.,  2000.,  2500.,  3000.,  3500.,  4000.,  5000.,\n",
       "        10000.]), name='pt', label='$p_{T}$ [GeV]'),\n",
       " Regular(300, 0, 2, name='frac', label='Fraction'),\n",
       " Variable([0, 0.261, 0.522, 0.783, 1.044, 1.305, 1.566, 1.74, 1.93, 2.043, 2.172, 2.322, 2.5, 2.65, 2.853, 2.964, 3.139, 3.489, 3.839, 5.191], name='eta', label='$\\\\eta$'),\n",
       " Variable([0, 10, 20, 30, 40, 50, 60, 70, 80], name='pileup', label='$\\\\mu$'))"
      ]
     },
     "execution_count": 32,
     "metadata": {},
     "output_type": "execute_result"
    }
   ],
   "source": [
    "hist_0 = output[\"pt_reco_over_gen\"]\n",
    "hist_0.axes"
   ]
  },
  {
   "cell_type": "code",
   "execution_count": 33,
   "id": "ea1cd5bd-2026-43ac-a77e-fb52f8f9f263",
   "metadata": {
    "tags": []
   },
   "outputs": [],
   "source": [
    "datasets = hist_0.axes[0].centers\n",
    "pt_bins = hist_0.axes[1].edges\n",
    "frac_bins = hist_0.axes[2].edges\n",
    "eta_bins = hist_0.axes[3].edges\n",
    "pileup_bins = hist_0.axes[4].edges\n",
    "#rho_bins = hist_0.axes[5].edges\n",
    "\n",
    "pt_values = hist_0.axes[1].centers\n",
    "frac_values = hist_0.axes[2].centers\n",
    "eta_values = hist_0.axes[3].centers\n",
    "pileup_values = hist_0.axes[4].centers\n",
    "#rho_values = hist_0.axes[5].centers\n",
    "\n",
    "pt_widths = hist_0.axes[1].widths\n",
    "frac_widths = hist_0.axes[2].widths\n",
    "eta_widths = hist_0.axes[3].widths\n",
    "pileup_widths = hist_0.axes[4].widths\n",
    "#rho_widths = hist_0.axes[5].widths"
   ]
  },
  {
   "cell_type": "code",
   "execution_count": 34,
   "id": "18eb6ff7-21c7-4b05-bc0b-11f44735ef8d",
   "metadata": {
    "tags": []
   },
   "outputs": [],
   "source": [
    "def jerfunc(x, p0, p1, p2, p3):\n",
    "    return np.sqrt(p0*np.abs(p0)/(x*x)+p1*p1*np.power(x,p3) + p2*p2)"
   ]
  },
  {
   "cell_type": "code",
   "execution_count": 36,
   "id": "09c82b2c-de07-44e2-98b2-b7aa4a488396",
   "metadata": {
    "tags": []
   },
   "outputs": [
    {
     "ename": "TypeError",
     "evalue": "unsupported operand type(s) for ^: 'float' and 'int'",
     "output_type": "error",
     "traceback": [
      "\u001b[0;31m---------------------------------------------------------------------------\u001b[0m",
      "\u001b[0;31mTypeError\u001b[0m                                 Traceback (most recent call last)",
      "Cell \u001b[0;32mIn[36], line 56\u001b[0m\n\u001b[1;32m     50\u001b[0m sigma_error_list  \u001b[38;5;241m=\u001b[39m np\u001b[38;5;241m.\u001b[39marray(histfit\u001b[38;5;241m.\u001b[39mparameters[\u001b[38;5;124m\"\u001b[39m\u001b[38;5;124msigmaErr\u001b[39m\u001b[38;5;124m\"\u001b[39m])\n\u001b[1;32m     53\u001b[0m sel \u001b[38;5;241m=\u001b[39m (histfit\u001b[38;5;241m.\u001b[39mparameters[\u001b[38;5;124m\"\u001b[39m\u001b[38;5;124msigma\u001b[39m\u001b[38;5;124m\"\u001b[39m] \u001b[38;5;241m!=\u001b[39m \u001b[38;5;28;01mNone\u001b[39;00m ) \u001b[38;5;241m&\u001b[39m (pt_values\u001b[38;5;241m>\u001b[39m\u001b[38;5;241m=\u001b[39m\u001b[38;5;241m30\u001b[39m) \n\u001b[1;32m     55\u001b[0m popt,pcov \u001b[38;5;241m=\u001b[39m curve_fit(jerfunc,  np\u001b[38;5;241m.\u001b[39marray(pt_values[sel], dtype \u001b[38;5;241m=\u001b[39m \u001b[38;5;124m'\u001b[39m\u001b[38;5;124mfloat64\u001b[39m\u001b[38;5;124m'\u001b[39m),  np\u001b[38;5;241m.\u001b[39marray(sigma_list[sel], dtype \u001b[38;5;241m=\u001b[39m \u001b[38;5;124m'\u001b[39m\u001b[38;5;124mfloat64\u001b[39m\u001b[38;5;124m'\u001b[39m) , \n\u001b[0;32m---> 56\u001b[0m                       sigma \u001b[38;5;241m=\u001b[39m np\u001b[38;5;241m.\u001b[39marray(sigma_error_list[sel],dtype \u001b[38;5;241m=\u001b[39m \u001b[38;5;124m'\u001b[39m\u001b[38;5;124mfloat64\u001b[39m\u001b[38;5;124m'\u001b[39m) , p0 \u001b[38;5;241m=\u001b[39m [\u001b[38;5;241m4.352\u001b[39m, \u001b[38;5;241m0.2533\u001b[39m, \u001b[38;5;241;43m3.106\u001b[39;49m\u001b[38;5;241;43m*\u001b[39;49m\u001b[38;5;241;43m10\u001b[39;49m\u001b[38;5;241;43m^\u001b[39;49m\u001b[38;5;241;43m-\u001b[39;49m\u001b[38;5;241;43m5\u001b[39;49m, \u001b[38;5;241m-\u001b[39m\u001b[38;5;241m0.4109\u001b[39m],  bounds \u001b[38;5;241m=\u001b[39m([\u001b[38;5;241m-\u001b[39m\u001b[38;5;241m10\u001b[39m,\u001b[38;5;241m-\u001b[39m\u001b[38;5;241m5\u001b[39m,\u001b[38;5;241m-\u001b[39m\u001b[38;5;241m3\u001b[39m,\u001b[38;5;241m-\u001b[39m\u001b[38;5;241m5\u001b[39m],[\u001b[38;5;241m10\u001b[39m,\u001b[38;5;241m2\u001b[39m,\u001b[38;5;241m2\u001b[39m,\u001b[38;5;241m5\u001b[39m]) )    \n\u001b[1;32m     58\u001b[0m df_fit2 \u001b[38;5;241m=\u001b[39m pd\u001b[38;5;241m.\u001b[39mDataFrame({ \u001b[38;5;124m\"\u001b[39m\u001b[38;5;124meta_low\u001b[39m\u001b[38;5;124m\"\u001b[39m:[eta_bins[i_eta]], \u001b[38;5;124m\"\u001b[39m\u001b[38;5;124meta_high\u001b[39m\u001b[38;5;124m\"\u001b[39m:[eta_bins[i_eta\u001b[38;5;241m+\u001b[39m\u001b[38;5;241m1\u001b[39m]], \n\u001b[1;32m     59\u001b[0m                         \u001b[38;5;124m\"\u001b[39m\u001b[38;5;124mpar0\u001b[39m\u001b[38;5;124m\"\u001b[39m:[popt[\u001b[38;5;241m0\u001b[39m]],\u001b[38;5;124m\"\u001b[39m\u001b[38;5;124mpar0_unc\u001b[39m\u001b[38;5;124m\"\u001b[39m:[np\u001b[38;5;241m.\u001b[39msqrt(pcov[\u001b[38;5;241m0\u001b[39m][\u001b[38;5;241m0\u001b[39m])], \u001b[38;5;124m\"\u001b[39m\u001b[38;5;124mpar1\u001b[39m\u001b[38;5;124m\"\u001b[39m:[popt[\u001b[38;5;241m1\u001b[39m]],\u001b[38;5;124m\"\u001b[39m\u001b[38;5;124mpar1_unc\u001b[39m\u001b[38;5;124m\"\u001b[39m:[np\u001b[38;5;241m.\u001b[39msqrt(pcov[\u001b[38;5;241m1\u001b[39m][\u001b[38;5;241m1\u001b[39m])],\n\u001b[1;32m     60\u001b[0m                         \u001b[38;5;124m\"\u001b[39m\u001b[38;5;124mpar2\u001b[39m\u001b[38;5;124m\"\u001b[39m:[popt[\u001b[38;5;241m2\u001b[39m]],\u001b[38;5;124m\"\u001b[39m\u001b[38;5;124mpar2_unc\u001b[39m\u001b[38;5;124m\"\u001b[39m:[np\u001b[38;5;241m.\u001b[39msqrt(pcov[\u001b[38;5;241m2\u001b[39m][\u001b[38;5;241m2\u001b[39m])], \u001b[38;5;124m\"\u001b[39m\u001b[38;5;124mpar3\u001b[39m\u001b[38;5;124m\"\u001b[39m:[popt[\u001b[38;5;241m3\u001b[39m]],\u001b[38;5;124m\"\u001b[39m\u001b[38;5;124mpar3_unc\u001b[39m\u001b[38;5;124m\"\u001b[39m:[np\u001b[38;5;241m.\u001b[39msqrt(pcov[\u001b[38;5;241m3\u001b[39m][\u001b[38;5;241m3\u001b[39m])] , \u001b[38;5;124m\"\u001b[39m\u001b[38;5;124mera\u001b[39m\u001b[38;5;124m\"\u001b[39m:[era]})\n\u001b[1;32m     61\u001b[0m df_fit \u001b[38;5;241m=\u001b[39m pd\u001b[38;5;241m.\u001b[39mconcat([df_fit,df_fit2])\n",
      "\u001b[0;31mTypeError\u001b[0m: unsupported operand type(s) for ^: 'float' and 'int'"
     ]
    }
   ],
   "source": [
    "#vs pileup (then converted to rho value using the relation derived)\n",
    "\n",
    "import pandas as pd\n",
    "#eras = ['2017', '2018']\n",
    "eras = ['2017']\n",
    "df_fit = pd.DataFrame({ \"eta_low\":[], \"eta_high\":[], \"par0\":[],\"par0_unc\":[], \"par1\":[],\"par1_unc\":[],\n",
    "                       \"par2\":[],\"par2_unc\":[], \"par3\":[],\"par3_unc\":[] , \"era\":[]})\n",
    "n_rho_min = 0\n",
    "n_rho_max = 5\n",
    "n_eta_min = 0\n",
    "n_eta_max = 10\n",
    "n_rho = n_rho_max - n_rho_min\n",
    "n_eta = n_eta_max - n_eta_min\n",
    "for era in eras:\n",
    "\n",
    "    if era == \"2016\":\n",
    "        jerfile = \"Summer20UL16_JRV3_MC_PtResolution_AK4PFchs.txt\"\n",
    "        filename = 'samples/flatPU_JMENano_2016.txt'\n",
    "        year =2016\n",
    "        more = \"_premix\"\n",
    "    if era == '2016APV':\n",
    "        jerfile = \"Summer20UL16APV_JRV3_MC_PtResolution_AK4PFchs.txt\"    \n",
    "        filename = 'samples/flatPU_JMENano_2016APV.txt'\n",
    "        year = 2016\n",
    "        more = \"_premix\"\n",
    "    if era == '2017':\n",
    "        jerfile = \"Summer20UL17_JRV1_MC_PtResolution_AK4PFchs.txt\"\n",
    "        filename = 'samples/flatPU_JMENano_2017.txt'\n",
    "        year = 2017\n",
    "        more = \"JME\"\n",
    "    if era == '2018':\n",
    "        jerfile = \"Summer20UL18_JRV1_MC_PtResolution_AK4PFchs.txt\"\n",
    "        filename = 'samples/flatPU_JMENano_2018.txt'\n",
    "        year = 2018\n",
    "        more = \"JME\"\n",
    "        \n",
    "    with open(\"QCD_pt_response_\"+era+more+\".pkl\", \"rb\") as f:\n",
    "        output = pickle.load( f )\n",
    "    hist_0 = output[\"pt_reco_over_gen\"]\n",
    "    \n",
    "    for i_rho in range(n_rho_min, n_rho_max):\n",
    "        gs = gridspec.GridSpec(nrows=2, ncols= n_eta, height_ratios=[4, 1], hspace = 0.0)\n",
    "        for i_eta in range(n_eta_min, n_eta_max):\n",
    "            hist_rho_pt_frac = hist_0.project(\"eta\",\"pileup\",\"pt\",\"frac\").to_numpy()[0][i_eta]\n",
    "            hist_pt_frac = hist_rho_pt_frac[i_rho]\n",
    "            histfit = Histfit(hist_pt_frac, frac_values, pt_values)\n",
    "            histfit.store_parameters()\n",
    "\n",
    "            sigma_list = histfit.parameters[\"sigma\"]\n",
    "            sigma_error_list  = np.array(histfit.parameters[\"sigmaErr\"])\n",
    "            \n",
    "\n",
    "            sel = (histfit.parameters[\"sigma\"] != None ) & (pt_values>=30) \n",
    "\n",
    "            popt,pcov = curve_fit(jerfunc,  np.array(pt_values[sel], dtype = 'float64'),  np.array(sigma_list[sel], dtype = 'float64') , \n",
    "                                  sigma = np.array(sigma_error_list[sel],dtype = 'float64') , p0 = [4.352, 0.2533, 3.106*10**-5, -0.4109],  bounds =([-10,-5,-3,-5],[10,2,2,5]) )    \n",
    "\n",
    "            df_fit2 = pd.DataFrame({ \"eta_low\":[eta_bins[i_eta]], \"eta_high\":[eta_bins[i_eta+1]], \n",
    "                                    \"par0\":[popt[0]],\"par0_unc\":[np.sqrt(pcov[0][0])], \"par1\":[popt[1]],\"par1_unc\":[np.sqrt(pcov[1][1])],\n",
    "                                    \"par2\":[popt[2]],\"par2_unc\":[np.sqrt(pcov[2][2])], \"par3\":[popt[3]],\"par3_unc\":[np.sqrt(pcov[3][3])] , \"era\":[era]})\n",
    "            df_fit = pd.concat([df_fit,df_fit2])\n",
    "            \n",
    "         \n",
    "            "
   ]
  },
  {
   "cell_type": "code",
   "execution_count": 24,
   "id": "f1cf764b-13a2-413d-98af-ecad1f4068a8",
   "metadata": {
    "tags": []
   },
   "outputs": [
    {
     "data": {
      "text/html": [
       "<div>\n",
       "<style scoped>\n",
       "    .dataframe tbody tr th:only-of-type {\n",
       "        vertical-align: middle;\n",
       "    }\n",
       "\n",
       "    .dataframe tbody tr th {\n",
       "        vertical-align: top;\n",
       "    }\n",
       "\n",
       "    .dataframe thead th {\n",
       "        text-align: right;\n",
       "    }\n",
       "</style>\n",
       "<table border=\"1\" class=\"dataframe\">\n",
       "  <thead>\n",
       "    <tr style=\"text-align: right;\">\n",
       "      <th></th>\n",
       "      <th>eta_low</th>\n",
       "      <th>eta_high</th>\n",
       "      <th>par0</th>\n",
       "      <th>par0_unc</th>\n",
       "      <th>par1</th>\n",
       "      <th>par1_unc</th>\n",
       "      <th>par2</th>\n",
       "      <th>par2_unc</th>\n",
       "      <th>par3</th>\n",
       "      <th>par3_unc</th>\n",
       "      <th>era</th>\n",
       "    </tr>\n",
       "  </thead>\n",
       "  <tbody>\n",
       "    <tr>\n",
       "      <th>0</th>\n",
       "      <td>0.000</td>\n",
       "      <td>0.261</td>\n",
       "      <td>0.000000e+00</td>\n",
       "      <td>0.000000</td>\n",
       "      <td>-0.531724</td>\n",
       "      <td>0.062408</td>\n",
       "      <td>-0.029803</td>\n",
       "      <td>0.001654</td>\n",
       "      <td>-0.773178</td>\n",
       "      <td>0.045135</td>\n",
       "      <td>2017</td>\n",
       "    </tr>\n",
       "    <tr>\n",
       "      <th>0</th>\n",
       "      <td>0.261</td>\n",
       "      <td>0.522</td>\n",
       "      <td>0.000000e+00</td>\n",
       "      <td>0.000000</td>\n",
       "      <td>-0.574943</td>\n",
       "      <td>0.069804</td>\n",
       "      <td>-0.032002</td>\n",
       "      <td>0.001423</td>\n",
       "      <td>-0.808915</td>\n",
       "      <td>0.046006</td>\n",
       "      <td>2017</td>\n",
       "    </tr>\n",
       "    <tr>\n",
       "      <th>0</th>\n",
       "      <td>0.522</td>\n",
       "      <td>0.783</td>\n",
       "      <td>0.000000e+00</td>\n",
       "      <td>0.000000</td>\n",
       "      <td>-0.519507</td>\n",
       "      <td>0.045994</td>\n",
       "      <td>-0.033486</td>\n",
       "      <td>0.001206</td>\n",
       "      <td>-0.763714</td>\n",
       "      <td>0.034366</td>\n",
       "      <td>2017</td>\n",
       "    </tr>\n",
       "    <tr>\n",
       "      <th>0</th>\n",
       "      <td>0.000</td>\n",
       "      <td>0.261</td>\n",
       "      <td>0.000000e+00</td>\n",
       "      <td>0.000000</td>\n",
       "      <td>-0.611308</td>\n",
       "      <td>0.070726</td>\n",
       "      <td>-0.030756</td>\n",
       "      <td>0.001246</td>\n",
       "      <td>-0.822421</td>\n",
       "      <td>0.042885</td>\n",
       "      <td>2017</td>\n",
       "    </tr>\n",
       "    <tr>\n",
       "      <th>0</th>\n",
       "      <td>0.261</td>\n",
       "      <td>0.522</td>\n",
       "      <td>0.000000e+00</td>\n",
       "      <td>0.000000</td>\n",
       "      <td>-0.629611</td>\n",
       "      <td>0.060157</td>\n",
       "      <td>0.032079</td>\n",
       "      <td>0.001179</td>\n",
       "      <td>-0.834722</td>\n",
       "      <td>0.036570</td>\n",
       "      <td>2017</td>\n",
       "    </tr>\n",
       "    <tr>\n",
       "      <th>0</th>\n",
       "      <td>0.522</td>\n",
       "      <td>0.783</td>\n",
       "      <td>0.000000e+00</td>\n",
       "      <td>0.000000</td>\n",
       "      <td>-0.651541</td>\n",
       "      <td>0.065904</td>\n",
       "      <td>-0.035622</td>\n",
       "      <td>0.001234</td>\n",
       "      <td>-0.847109</td>\n",
       "      <td>0.039373</td>\n",
       "      <td>2017</td>\n",
       "    </tr>\n",
       "    <tr>\n",
       "      <th>0</th>\n",
       "      <td>0.000</td>\n",
       "      <td>0.261</td>\n",
       "      <td>0.000000e+00</td>\n",
       "      <td>0.000000</td>\n",
       "      <td>-0.649594</td>\n",
       "      <td>0.063019</td>\n",
       "      <td>-0.031168</td>\n",
       "      <td>0.001203</td>\n",
       "      <td>-0.843469</td>\n",
       "      <td>0.036822</td>\n",
       "      <td>2017</td>\n",
       "    </tr>\n",
       "    <tr>\n",
       "      <th>0</th>\n",
       "      <td>0.261</td>\n",
       "      <td>0.522</td>\n",
       "      <td>-4.332140e+00</td>\n",
       "      <td>0.560359</td>\n",
       "      <td>1.088991</td>\n",
       "      <td>0.132842</td>\n",
       "      <td>-0.034731</td>\n",
       "      <td>0.000652</td>\n",
       "      <td>-1.016401</td>\n",
       "      <td>0.041356</td>\n",
       "      <td>2017</td>\n",
       "    </tr>\n",
       "    <tr>\n",
       "      <th>0</th>\n",
       "      <td>0.522</td>\n",
       "      <td>0.783</td>\n",
       "      <td>2.040480e-10</td>\n",
       "      <td>0.000000</td>\n",
       "      <td>0.630060</td>\n",
       "      <td>0.064968</td>\n",
       "      <td>-0.034426</td>\n",
       "      <td>0.001271</td>\n",
       "      <td>-0.826058</td>\n",
       "      <td>0.040102</td>\n",
       "      <td>2017</td>\n",
       "    </tr>\n",
       "  </tbody>\n",
       "</table>\n",
       "</div>"
      ],
      "text/plain": [
       "   eta_low  eta_high          par0  par0_unc      par1  par1_unc      par2  \\\n",
       "0    0.000     0.261  0.000000e+00  0.000000 -0.531724  0.062408 -0.029803   \n",
       "0    0.261     0.522  0.000000e+00  0.000000 -0.574943  0.069804 -0.032002   \n",
       "0    0.522     0.783  0.000000e+00  0.000000 -0.519507  0.045994 -0.033486   \n",
       "0    0.000     0.261  0.000000e+00  0.000000 -0.611308  0.070726 -0.030756   \n",
       "0    0.261     0.522  0.000000e+00  0.000000 -0.629611  0.060157  0.032079   \n",
       "0    0.522     0.783  0.000000e+00  0.000000 -0.651541  0.065904 -0.035622   \n",
       "0    0.000     0.261  0.000000e+00  0.000000 -0.649594  0.063019 -0.031168   \n",
       "0    0.261     0.522 -4.332140e+00  0.560359  1.088991  0.132842 -0.034731   \n",
       "0    0.522     0.783  2.040480e-10  0.000000  0.630060  0.064968 -0.034426   \n",
       "\n",
       "   par2_unc      par3  par3_unc   era  \n",
       "0  0.001654 -0.773178  0.045135  2017  \n",
       "0  0.001423 -0.808915  0.046006  2017  \n",
       "0  0.001206 -0.763714  0.034366  2017  \n",
       "0  0.001246 -0.822421  0.042885  2017  \n",
       "0  0.001179 -0.834722  0.036570  2017  \n",
       "0  0.001234 -0.847109  0.039373  2017  \n",
       "0  0.001203 -0.843469  0.036822  2017  \n",
       "0  0.000652 -1.016401  0.041356  2017  \n",
       "0  0.001271 -0.826058  0.040102  2017  "
      ]
     },
     "execution_count": 24,
     "metadata": {},
     "output_type": "execute_result"
    }
   ],
   "source": [
    "df_fit.head(10)"
   ]
  },
  {
   "cell_type": "code",
   "execution_count": null,
   "id": "4c4d12f5-1b97-44af-a89f-a766362417df",
   "metadata": {},
   "outputs": [],
   "source": []
  }
 ],
 "metadata": {
  "kernelspec": {
   "display_name": "Python 3 (ipykernel)",
   "language": "python",
   "name": "python3"
  },
  "language_info": {
   "codemirror_mode": {
    "name": "ipython",
    "version": 3
   },
   "file_extension": ".py",
   "mimetype": "text/x-python",
   "name": "python",
   "nbconvert_exporter": "python",
   "pygments_lexer": "ipython3",
   "version": "3.8.16"
  }
 },
 "nbformat": 4,
 "nbformat_minor": 5
}
